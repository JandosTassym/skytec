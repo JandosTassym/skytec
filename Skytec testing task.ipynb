{
 "cells": [
  {
   "cell_type": "markdown",
   "id": "dd53a310",
   "metadata": {},
   "source": [
    "# Исходный Датасет"
   ]
  },
  {
   "cell_type": "code",
   "execution_count": 2,
   "id": "77aada66",
   "metadata": {},
   "outputs": [],
   "source": [
    "import pandas as pd\n",
    "import numpy as np\n",
    "from faker import Faker"
   ]
  },
  {
   "cell_type": "code",
   "execution_count": 4,
   "id": "d18b14dc",
   "metadata": {},
   "outputs": [],
   "source": [
    "fake = Faker()\n",
    "num_records = 30_000_000\n",
    "num_unique_values = 100\n",
    "\n",
    "\n",
    "mean = 50\n",
    "std_dev = 100\n",
    "\n",
    "# Генерация уникальных значений для string колонки\n",
    "unique_strings = [fake.word() for _ in range(num_unique_strings)]\n",
    "unique_strings_with_digits = [f\"{s}{fake.random_int(min=0, max=99)}\" for s in unique_strings]\n",
    "\n",
    "# Создание списков для каждой категории\n",
    "string_with_digits = np.random.choice(unique_strings_with_digits, int(num_records * 0.7))\n",
    "string_without_digits = np.random.choice(unique_strings, int(num_records * 0.2))\n",
    "null_strings = [None] * int(num_records * 0.1)\n",
    "\n",
    "# Объединение всех списков и перемешивание\n",
    "all_strings = np.concatenate([string_with_digits, string_without_digits, null_strings])\n",
    "np.random.shuffle(all_strings)\n",
    "datetime_data = pd.date_range(start='03/01/2020', end = '4/06/2024', periods=num_records)\n",
    "\n",
    "# Генерация значений с нормальным распределением\n",
    "numeric_data = np.random.normal(loc=mean, scale=std_dev, size=num_records)\n",
    "\n",
    "# Округление значений и приведение к заданному числу уникальных значений\n",
    "# Сначала нормируем данные, чтобы они лежали в интервале от 0 до num_unique_values-1\n",
    "numeric_data = np.round((numeric_data - np.min(numeric_data)) / (np.max(numeric_data) - np.min(numeric_data)) * (num_unique_values - 1))\n",
    "\n",
    "# Приведение к целочисленному типу\n",
    "numeric_data = numeric_data.astype(int)\n"
   ]
  },
  {
   "cell_type": "code",
   "execution_count": 5,
   "id": "41d9f5cd",
   "metadata": {},
   "outputs": [],
   "source": [
    "# Создание DataFrame\n",
    "df = pd.DataFrame({\n",
    "    'numeric': numeric_data,\n",
    "    'datetime': datetime_data,\n",
    "    'string': all_strings\n",
    "})"
   ]
  },
  {
   "cell_type": "code",
   "execution_count": 6,
   "id": "d9682804",
   "metadata": {},
   "outputs": [],
   "source": [
    "# Добавление дублей (10% записей)\n",
    "duplicates = df.sample(frac=0.1, replace=True)\n",
    "df = pd.concat([df, duplicates])"
   ]
  },
  {
   "cell_type": "code",
   "execution_count": 7,
   "id": "69798fdf",
   "metadata": {},
   "outputs": [],
   "source": [
    "# Перемешивание записей\n",
    "df = df.sample(frac=1).reset_index(drop=True)"
   ]
  },
  {
   "cell_type": "code",
   "execution_count": 8,
   "id": "f491475a",
   "metadata": {},
   "outputs": [],
   "source": [
    "# Сохранение в CSV\n",
    "df.to_csv('/Users/jandos/Desktop/large_dataset_3.csv', index=False)"
   ]
  },
  {
   "cell_type": "code",
   "execution_count": 9,
   "id": "ce687eb1",
   "metadata": {
    "scrolled": true
   },
   "outputs": [
    {
     "data": {
      "text/html": [
       "<div>\n",
       "<style scoped>\n",
       "    .dataframe tbody tr th:only-of-type {\n",
       "        vertical-align: middle;\n",
       "    }\n",
       "\n",
       "    .dataframe tbody tr th {\n",
       "        vertical-align: top;\n",
       "    }\n",
       "\n",
       "    .dataframe thead th {\n",
       "        text-align: right;\n",
       "    }\n",
       "</style>\n",
       "<table border=\"1\" class=\"dataframe\">\n",
       "  <thead>\n",
       "    <tr style=\"text-align: right;\">\n",
       "      <th></th>\n",
       "      <th>numeric</th>\n",
       "      <th>datetime</th>\n",
       "      <th>string</th>\n",
       "    </tr>\n",
       "  </thead>\n",
       "  <tbody>\n",
       "    <tr>\n",
       "      <th>0</th>\n",
       "      <td>37</td>\n",
       "      <td>2021-12-15 23:50:26.298220872</td>\n",
       "      <td>two21</td>\n",
       "    </tr>\n",
       "    <tr>\n",
       "      <th>1</th>\n",
       "      <td>36</td>\n",
       "      <td>2023-12-09 05:49:41.059899360</td>\n",
       "      <td>quality53</td>\n",
       "    </tr>\n",
       "    <tr>\n",
       "      <th>2</th>\n",
       "      <td>65</td>\n",
       "      <td>2023-09-16 00:22:17.112044560</td>\n",
       "      <td>source32</td>\n",
       "    </tr>\n",
       "    <tr>\n",
       "      <th>3</th>\n",
       "      <td>64</td>\n",
       "      <td>2023-07-27 03:02:35.989805200</td>\n",
       "      <td>politics83</td>\n",
       "    </tr>\n",
       "    <tr>\n",
       "      <th>4</th>\n",
       "      <td>53</td>\n",
       "      <td>2023-02-18 00:35:33.391751104</td>\n",
       "      <td>recent29</td>\n",
       "    </tr>\n",
       "    <tr>\n",
       "      <th>...</th>\n",
       "      <td>...</td>\n",
       "      <td>...</td>\n",
       "      <td>...</td>\n",
       "    </tr>\n",
       "    <tr>\n",
       "      <th>32999995</th>\n",
       "      <td>54</td>\n",
       "      <td>2022-04-14 15:09:17.990298600</td>\n",
       "      <td>class69</td>\n",
       "    </tr>\n",
       "    <tr>\n",
       "      <th>32999996</th>\n",
       "      <td>58</td>\n",
       "      <td>2020-09-12 09:56:00.572392018</td>\n",
       "      <td>pressure</td>\n",
       "    </tr>\n",
       "    <tr>\n",
       "      <th>32999997</th>\n",
       "      <td>52</td>\n",
       "      <td>2021-01-03 02:57:18.351714612</td>\n",
       "      <td>fund24</td>\n",
       "    </tr>\n",
       "    <tr>\n",
       "      <th>32999998</th>\n",
       "      <td>72</td>\n",
       "      <td>2023-11-19 17:15:05.355990176</td>\n",
       "      <td>finish70</td>\n",
       "    </tr>\n",
       "    <tr>\n",
       "      <th>32999999</th>\n",
       "      <td>54</td>\n",
       "      <td>2022-10-12 20:30:10.851420352</td>\n",
       "      <td>ready65</td>\n",
       "    </tr>\n",
       "  </tbody>\n",
       "</table>\n",
       "<p>33000000 rows × 3 columns</p>\n",
       "</div>"
      ],
      "text/plain": [
       "          numeric                      datetime      string\n",
       "0              37 2021-12-15 23:50:26.298220872       two21\n",
       "1              36 2023-12-09 05:49:41.059899360   quality53\n",
       "2              65 2023-09-16 00:22:17.112044560    source32\n",
       "3              64 2023-07-27 03:02:35.989805200  politics83\n",
       "4              53 2023-02-18 00:35:33.391751104    recent29\n",
       "...           ...                           ...         ...\n",
       "32999995       54 2022-04-14 15:09:17.990298600     class69\n",
       "32999996       58 2020-09-12 09:56:00.572392018    pressure\n",
       "32999997       52 2021-01-03 02:57:18.351714612      fund24\n",
       "32999998       72 2023-11-19 17:15:05.355990176    finish70\n",
       "32999999       54 2022-10-12 20:30:10.851420352     ready65\n",
       "\n",
       "[33000000 rows x 3 columns]"
      ]
     },
     "execution_count": 9,
     "metadata": {},
     "output_type": "execute_result"
    }
   ],
   "source": [
    "df"
   ]
  },
  {
   "cell_type": "markdown",
   "id": "3e0f0f4a",
   "metadata": {},
   "source": [
    "# Сведение о датасете:"
   ]
  },
  {
   "cell_type": "code",
   "execution_count": 10,
   "id": "ac5481c3",
   "metadata": {},
   "outputs": [
    {
     "name": "stdout",
     "output_type": "stream",
     "text": [
      "<class 'pandas.core.frame.DataFrame'>\n",
      "RangeIndex: 33000000 entries, 0 to 32999999\n",
      "Data columns (total 3 columns):\n",
      " #   Column    Dtype         \n",
      "---  ------    -----         \n",
      " 0   numeric   int64         \n",
      " 1   datetime  datetime64[ns]\n",
      " 2   string    object        \n",
      "dtypes: datetime64[ns](1), int64(1), object(1)\n",
      "memory usage: 755.3+ MB\n"
     ]
    }
   ],
   "source": [
    "df.info()"
   ]
  },
  {
   "cell_type": "code",
   "execution_count": 11,
   "id": "74adce84",
   "metadata": {
    "scrolled": true
   },
   "outputs": [
    {
     "data": {
      "text/html": [
       "<div>\n",
       "<style scoped>\n",
       "    .dataframe tbody tr th:only-of-type {\n",
       "        vertical-align: middle;\n",
       "    }\n",
       "\n",
       "    .dataframe tbody tr th {\n",
       "        vertical-align: top;\n",
       "    }\n",
       "\n",
       "    .dataframe thead th {\n",
       "        text-align: right;\n",
       "    }\n",
       "</style>\n",
       "<table border=\"1\" class=\"dataframe\">\n",
       "  <thead>\n",
       "    <tr style=\"text-align: right;\">\n",
       "      <th></th>\n",
       "      <th>numeric</th>\n",
       "      <th>datetime</th>\n",
       "    </tr>\n",
       "  </thead>\n",
       "  <tbody>\n",
       "    <tr>\n",
       "      <th>count</th>\n",
       "      <td>3.300000e+07</td>\n",
       "      <td>33000000</td>\n",
       "    </tr>\n",
       "    <tr>\n",
       "      <th>mean</th>\n",
       "      <td>5.042660e+01</td>\n",
       "      <td>2022-03-19 11:58:31.085315328</td>\n",
       "    </tr>\n",
       "    <tr>\n",
       "      <th>min</th>\n",
       "      <td>0.000000e+00</td>\n",
       "      <td>2020-03-01 00:00:00</td>\n",
       "    </tr>\n",
       "    <tr>\n",
       "      <th>25%</th>\n",
       "      <td>4.400000e+01</td>\n",
       "      <td>2021-03-10 06:21:03.228521984</td>\n",
       "    </tr>\n",
       "    <tr>\n",
       "      <th>50%</th>\n",
       "      <td>5.000000e+01</td>\n",
       "      <td>2022-03-19 11:30:02.162820096</td>\n",
       "    </tr>\n",
       "    <tr>\n",
       "      <th>75%</th>\n",
       "      <td>5.700000e+01</td>\n",
       "      <td>2023-03-28 17:54:19.402548736</td>\n",
       "    </tr>\n",
       "    <tr>\n",
       "      <th>max</th>\n",
       "      <td>9.900000e+01</td>\n",
       "      <td>2024-04-06 00:00:00</td>\n",
       "    </tr>\n",
       "    <tr>\n",
       "      <th>std</th>\n",
       "      <td>9.155387e+00</td>\n",
       "      <td>NaN</td>\n",
       "    </tr>\n",
       "  </tbody>\n",
       "</table>\n",
       "</div>"
      ],
      "text/plain": [
       "            numeric                       datetime\n",
       "count  3.300000e+07                       33000000\n",
       "mean   5.042660e+01  2022-03-19 11:58:31.085315328\n",
       "min    0.000000e+00            2020-03-01 00:00:00\n",
       "25%    4.400000e+01  2021-03-10 06:21:03.228521984\n",
       "50%    5.000000e+01  2022-03-19 11:30:02.162820096\n",
       "75%    5.700000e+01  2023-03-28 17:54:19.402548736\n",
       "max    9.900000e+01            2024-04-06 00:00:00\n",
       "std    9.155387e+00                            NaN"
      ]
     },
     "execution_count": 11,
     "metadata": {},
     "output_type": "execute_result"
    }
   ],
   "source": [
    "df.describe()"
   ]
  },
  {
   "cell_type": "code",
   "execution_count": 12,
   "id": "bebd6399",
   "metadata": {},
   "outputs": [
    {
     "data": {
      "text/plain": [
       "199"
      ]
     },
     "execution_count": 12,
     "metadata": {},
     "output_type": "execute_result"
    }
   ],
   "source": [
    "len(df['string'].unique())          #len(ratings['user_id'].unique())"
   ]
  },
  {
   "cell_type": "code",
   "execution_count": null,
   "id": "143411ff",
   "metadata": {
    "scrolled": true
   },
   "outputs": [],
   "source": [
    "df[df['string']=='south']['string'].value_counts()"
   ]
  },
  {
   "cell_type": "code",
   "execution_count": 12,
   "id": "f68320b5",
   "metadata": {},
   "outputs": [],
   "source": [
    "df_count_null = df.isnull().count()"
   ]
  },
  {
   "cell_type": "code",
   "execution_count": 13,
   "id": "cd5106d2",
   "metadata": {},
   "outputs": [
    {
     "data": {
      "text/plain": [
       "numeric     33000000\n",
       "datetime    33000000\n",
       "string      33000000\n",
       "dtype: int64"
      ]
     },
     "execution_count": 13,
     "metadata": {},
     "output_type": "execute_result"
    }
   ],
   "source": [
    "df_count_null"
   ]
  },
  {
   "cell_type": "markdown",
   "id": "216bf3dd",
   "metadata": {},
   "source": [
    "# Считывание и процессинг"
   ]
  },
  {
   "cell_type": "code",
   "execution_count": 13,
   "id": "a9f69301",
   "metadata": {
    "scrolled": false
   },
   "outputs": [
    {
     "name": "stderr",
     "output_type": "stream",
     "text": [
      "/var/folders/q8/phy_73j56dx2_bbk_qcsx23m0000gn/T/ipykernel_37452/3681476737.py:28: FutureWarning: DataFrame.applymap has been deprecated. Use DataFrame.map instead.\n",
      "  meta = df.map_partitions(lambda df: df.applymap(has_digits)).head()\n",
      "/var/folders/q8/phy_73j56dx2_bbk_qcsx23m0000gn/T/ipykernel_37452/3681476737.py:28: FutureWarning: DataFrame.applymap has been deprecated. Use DataFrame.map instead.\n",
      "  meta = df.map_partitions(lambda df: df.applymap(has_digits)).head()\n",
      "/var/folders/q8/phy_73j56dx2_bbk_qcsx23m0000gn/T/ipykernel_37452/3681476737.py:29: FutureWarning: DataFrame.applymap has been deprecated. Use DataFrame.map instead.\n",
      "  df = df.map_partitions(lambda df: df.applymap(has_digits), meta=meta)\n"
     ]
    }
   ],
   "source": [
    "import dask.dataframe as dd\n",
    "import numpy as np\n",
    "import pandas as pd\n",
    "\n",
    "# Загрузка набора данных\n",
    "df = dd.read_csv('/Users/jandos/Desktop/large_dataset_3.csv')\n",
    "\n",
    "# Замена пустых строк на NaN\n",
    "df = df.replace(r'^\\s*$', np.nan, regex=True)\n",
    "\n",
    "# Удаление строк, где все элементы являются NaN\n",
    "df = df.dropna(how='all')\n",
    "\n",
    "# Удаление дубликатов\n",
    "df = df.drop_duplicates()\n",
    "\n",
    "# Определение функции для проверки наличия цифр\n",
    "def has_digits(cell):\n",
    "    if pd.isnull(cell):  # Проверка на NaN\n",
    "        return cell\n",
    "    if isinstance(cell, (int, float)):  # Проверка на типы int и float\n",
    "        return cell\n",
    "    if isinstance(cell, str) and any(char.isdigit() for char in cell):  # Проверка строк на наличие цифр\n",
    "        return cell\n",
    "    return ''  # Если цифр нет, вернуть пустую строку\n",
    "\n",
    "# Применение функции к DataFrame с указанием метаданных\n",
    "meta = df.map_partitions(lambda df: df.applymap(has_digits)).head()\n",
    "df = df.map_partitions(lambda df: df.applymap(has_digits), meta=meta)\n",
    "\n",
    "# Фильтрация по времени\n",
    "df['datetime'] = dd.to_datetime(df['datetime'])\n",
    "df = df[~((df['datetime'].dt.hour >= 1) & (df['datetime'].dt.hour < 3))]\n",
    "\n",
    "# Выполнение всех операций и преобразование в pandas DataFrame\n",
    "df = df.compute()\n"
   ]
  },
  {
   "cell_type": "code",
   "execution_count": 14,
   "id": "9d7a4fd9",
   "metadata": {},
   "outputs": [
    {
     "data": {
      "text/html": [
       "<div>\n",
       "<style scoped>\n",
       "    .dataframe tbody tr th:only-of-type {\n",
       "        vertical-align: middle;\n",
       "    }\n",
       "\n",
       "    .dataframe tbody tr th {\n",
       "        vertical-align: top;\n",
       "    }\n",
       "\n",
       "    .dataframe thead th {\n",
       "        text-align: right;\n",
       "    }\n",
       "</style>\n",
       "<table border=\"1\" class=\"dataframe\">\n",
       "  <thead>\n",
       "    <tr style=\"text-align: right;\">\n",
       "      <th></th>\n",
       "      <th>numeric</th>\n",
       "      <th>datetime</th>\n",
       "      <th>string</th>\n",
       "    </tr>\n",
       "  </thead>\n",
       "  <tbody>\n",
       "    <tr>\n",
       "      <th>0</th>\n",
       "      <td>37</td>\n",
       "      <td>2021-12-15 23:50:26.298220872</td>\n",
       "      <td>two21</td>\n",
       "    </tr>\n",
       "    <tr>\n",
       "      <th>1</th>\n",
       "      <td>36</td>\n",
       "      <td>2023-12-09 05:49:41.059899360</td>\n",
       "      <td>quality53</td>\n",
       "    </tr>\n",
       "    <tr>\n",
       "      <th>2</th>\n",
       "      <td>65</td>\n",
       "      <td>2023-09-16 00:22:17.112044560</td>\n",
       "      <td>source32</td>\n",
       "    </tr>\n",
       "    <tr>\n",
       "      <th>3</th>\n",
       "      <td>64</td>\n",
       "      <td>2023-07-27 03:02:35.989805200</td>\n",
       "      <td>politics83</td>\n",
       "    </tr>\n",
       "    <tr>\n",
       "      <th>4</th>\n",
       "      <td>53</td>\n",
       "      <td>2023-02-18 00:35:33.391751104</td>\n",
       "      <td>recent29</td>\n",
       "    </tr>\n",
       "    <tr>\n",
       "      <th>...</th>\n",
       "      <td>...</td>\n",
       "      <td>...</td>\n",
       "      <td>...</td>\n",
       "    </tr>\n",
       "    <tr>\n",
       "      <th>1649930</th>\n",
       "      <td>50</td>\n",
       "      <td>2020-03-21 12:46:00.867452028</td>\n",
       "      <td>state52</td>\n",
       "    </tr>\n",
       "    <tr>\n",
       "      <th>1649931</th>\n",
       "      <td>54</td>\n",
       "      <td>2022-04-14 15:09:17.990298600</td>\n",
       "      <td>class69</td>\n",
       "    </tr>\n",
       "    <tr>\n",
       "      <th>1649932</th>\n",
       "      <td>58</td>\n",
       "      <td>2020-09-12 09:56:00.572392018</td>\n",
       "      <td></td>\n",
       "    </tr>\n",
       "    <tr>\n",
       "      <th>1649934</th>\n",
       "      <td>72</td>\n",
       "      <td>2023-11-19 17:15:05.355990176</td>\n",
       "      <td>finish70</td>\n",
       "    </tr>\n",
       "    <tr>\n",
       "      <th>1649935</th>\n",
       "      <td>54</td>\n",
       "      <td>2022-10-12 20:30:10.851420352</td>\n",
       "      <td>ready65</td>\n",
       "    </tr>\n",
       "  </tbody>\n",
       "</table>\n",
       "<p>27500000 rows × 3 columns</p>\n",
       "</div>"
      ],
      "text/plain": [
       "         numeric                      datetime      string\n",
       "0             37 2021-12-15 23:50:26.298220872       two21\n",
       "1             36 2023-12-09 05:49:41.059899360   quality53\n",
       "2             65 2023-09-16 00:22:17.112044560    source32\n",
       "3             64 2023-07-27 03:02:35.989805200  politics83\n",
       "4             53 2023-02-18 00:35:33.391751104    recent29\n",
       "...          ...                           ...         ...\n",
       "1649930       50 2020-03-21 12:46:00.867452028     state52\n",
       "1649931       54 2022-04-14 15:09:17.990298600     class69\n",
       "1649932       58 2020-09-12 09:56:00.572392018            \n",
       "1649934       72 2023-11-19 17:15:05.355990176    finish70\n",
       "1649935       54 2022-10-12 20:30:10.851420352     ready65\n",
       "\n",
       "[27500000 rows x 3 columns]"
      ]
     },
     "execution_count": 14,
     "metadata": {},
     "output_type": "execute_result"
    }
   ],
   "source": [
    "df"
   ]
  },
  {
   "cell_type": "markdown",
   "id": "923bb2a9",
   "metadata": {},
   "source": [
    "# Расчет метрик"
   ]
  },
  {
   "cell_type": "code",
   "execution_count": 15,
   "id": "f39d821c",
   "metadata": {},
   "outputs": [
    {
     "data": {
      "text/html": [
       "<div>\n",
       "<style scoped>\n",
       "    .dataframe tbody tr th:only-of-type {\n",
       "        vertical-align: middle;\n",
       "    }\n",
       "\n",
       "    .dataframe tbody tr th {\n",
       "        vertical-align: top;\n",
       "    }\n",
       "\n",
       "    .dataframe thead th {\n",
       "        text-align: right;\n",
       "    }\n",
       "</style>\n",
       "<table border=\"1\" class=\"dataframe\">\n",
       "  <thead>\n",
       "    <tr style=\"text-align: right;\">\n",
       "      <th></th>\n",
       "      <th>hour</th>\n",
       "      <th>numeric</th>\n",
       "    </tr>\n",
       "  </thead>\n",
       "  <tbody>\n",
       "    <tr>\n",
       "      <th>0</th>\n",
       "      <td>2020-03-01 00:00:00</td>\n",
       "      <td>50.529904</td>\n",
       "    </tr>\n",
       "    <tr>\n",
       "      <th>1</th>\n",
       "      <td>2020-03-01 03:00:00</td>\n",
       "      <td>50.093413</td>\n",
       "    </tr>\n",
       "    <tr>\n",
       "      <th>2</th>\n",
       "      <td>2020-03-01 04:00:00</td>\n",
       "      <td>49.947305</td>\n",
       "    </tr>\n",
       "    <tr>\n",
       "      <th>3</th>\n",
       "      <td>2020-03-01 05:00:00</td>\n",
       "      <td>50.443114</td>\n",
       "    </tr>\n",
       "    <tr>\n",
       "      <th>4</th>\n",
       "      <td>2020-03-01 06:00:00</td>\n",
       "      <td>50.451497</td>\n",
       "    </tr>\n",
       "    <tr>\n",
       "      <th>...</th>\n",
       "      <td>...</td>\n",
       "      <td>...</td>\n",
       "    </tr>\n",
       "    <tr>\n",
       "      <th>32930</th>\n",
       "      <td>2024-04-05 20:00:00</td>\n",
       "      <td>50.800000</td>\n",
       "    </tr>\n",
       "    <tr>\n",
       "      <th>32931</th>\n",
       "      <td>2024-04-05 21:00:00</td>\n",
       "      <td>50.435928</td>\n",
       "    </tr>\n",
       "    <tr>\n",
       "      <th>32932</th>\n",
       "      <td>2024-04-05 22:00:00</td>\n",
       "      <td>50.658683</td>\n",
       "    </tr>\n",
       "    <tr>\n",
       "      <th>32933</th>\n",
       "      <td>2024-04-05 23:00:00</td>\n",
       "      <td>50.238323</td>\n",
       "    </tr>\n",
       "    <tr>\n",
       "      <th>32934</th>\n",
       "      <td>2024-04-06 00:00:00</td>\n",
       "      <td>51.000000</td>\n",
       "    </tr>\n",
       "  </tbody>\n",
       "</table>\n",
       "<p>32935 rows × 2 columns</p>\n",
       "</div>"
      ],
      "text/plain": [
       "                     hour    numeric\n",
       "0     2020-03-01 00:00:00  50.529904\n",
       "1     2020-03-01 03:00:00  50.093413\n",
       "2     2020-03-01 04:00:00  49.947305\n",
       "3     2020-03-01 05:00:00  50.443114\n",
       "4     2020-03-01 06:00:00  50.451497\n",
       "...                   ...        ...\n",
       "32930 2024-04-05 20:00:00  50.800000\n",
       "32931 2024-04-05 21:00:00  50.435928\n",
       "32932 2024-04-05 22:00:00  50.658683\n",
       "32933 2024-04-05 23:00:00  50.238323\n",
       "32934 2024-04-06 00:00:00  51.000000\n",
       "\n",
       "[32935 rows x 2 columns]"
      ]
     },
     "execution_count": 15,
     "metadata": {},
     "output_type": "execute_result"
    }
   ],
   "source": [
    "\n",
    "df['hour'] = df['datetime'].dt.floor('H')\n",
    "unique_string = df.groupby('hour')['string'].nunique().reset_index()\n",
    "numeric_avg = df.groupby('hour')['numeric'].mean().reset_index()\n",
    "numeric_avg\n"
   ]
  },
  {
   "cell_type": "code",
   "execution_count": 16,
   "id": "ca854dc1",
   "metadata": {},
   "outputs": [
    {
     "data": {
      "text/html": [
       "<div>\n",
       "<style scoped>\n",
       "    .dataframe tbody tr th:only-of-type {\n",
       "        vertical-align: middle;\n",
       "    }\n",
       "\n",
       "    .dataframe tbody tr th {\n",
       "        vertical-align: top;\n",
       "    }\n",
       "\n",
       "    .dataframe thead th {\n",
       "        text-align: right;\n",
       "    }\n",
       "</style>\n",
       "<table border=\"1\" class=\"dataframe\">\n",
       "  <thead>\n",
       "    <tr style=\"text-align: right;\">\n",
       "      <th></th>\n",
       "      <th>hour</th>\n",
       "      <th>numeric</th>\n",
       "    </tr>\n",
       "  </thead>\n",
       "  <tbody>\n",
       "    <tr>\n",
       "      <th>0</th>\n",
       "      <td>2020-03-01 00:00:00</td>\n",
       "      <td>50.529904</td>\n",
       "    </tr>\n",
       "    <tr>\n",
       "      <th>1</th>\n",
       "      <td>2020-03-01 03:00:00</td>\n",
       "      <td>50.093413</td>\n",
       "    </tr>\n",
       "    <tr>\n",
       "      <th>2</th>\n",
       "      <td>2020-03-01 04:00:00</td>\n",
       "      <td>49.947305</td>\n",
       "    </tr>\n",
       "    <tr>\n",
       "      <th>3</th>\n",
       "      <td>2020-03-01 05:00:00</td>\n",
       "      <td>50.443114</td>\n",
       "    </tr>\n",
       "    <tr>\n",
       "      <th>4</th>\n",
       "      <td>2020-03-01 06:00:00</td>\n",
       "      <td>50.451497</td>\n",
       "    </tr>\n",
       "    <tr>\n",
       "      <th>...</th>\n",
       "      <td>...</td>\n",
       "      <td>...</td>\n",
       "    </tr>\n",
       "    <tr>\n",
       "      <th>32930</th>\n",
       "      <td>2024-04-05 20:00:00</td>\n",
       "      <td>50.800000</td>\n",
       "    </tr>\n",
       "    <tr>\n",
       "      <th>32931</th>\n",
       "      <td>2024-04-05 21:00:00</td>\n",
       "      <td>50.435928</td>\n",
       "    </tr>\n",
       "    <tr>\n",
       "      <th>32932</th>\n",
       "      <td>2024-04-05 22:00:00</td>\n",
       "      <td>50.658683</td>\n",
       "    </tr>\n",
       "    <tr>\n",
       "      <th>32933</th>\n",
       "      <td>2024-04-05 23:00:00</td>\n",
       "      <td>50.238323</td>\n",
       "    </tr>\n",
       "    <tr>\n",
       "      <th>32934</th>\n",
       "      <td>2024-04-06 00:00:00</td>\n",
       "      <td>51.000000</td>\n",
       "    </tr>\n",
       "  </tbody>\n",
       "</table>\n",
       "<p>32935 rows × 2 columns</p>\n",
       "</div>"
      ],
      "text/plain": [
       "                     hour    numeric\n",
       "0     2020-03-01 00:00:00  50.529904\n",
       "1     2020-03-01 03:00:00  50.093413\n",
       "2     2020-03-01 04:00:00  49.947305\n",
       "3     2020-03-01 05:00:00  50.443114\n",
       "4     2020-03-01 06:00:00  50.451497\n",
       "...                   ...        ...\n",
       "32930 2024-04-05 20:00:00  50.800000\n",
       "32931 2024-04-05 21:00:00  50.435928\n",
       "32932 2024-04-05 22:00:00  50.658683\n",
       "32933 2024-04-05 23:00:00  50.238323\n",
       "32934 2024-04-06 00:00:00  51.000000\n",
       "\n",
       "[32935 rows x 2 columns]"
      ]
     },
     "execution_count": 16,
     "metadata": {},
     "output_type": "execute_result"
    }
   ],
   "source": [
    "numeric_avg = df.groupby('hour')['numeric'].mean().reset_index()\n",
    "numeric_avg"
   ]
  },
  {
   "cell_type": "code",
   "execution_count": 30,
   "id": "d79188ff",
   "metadata": {},
   "outputs": [
    {
     "data": {
      "text/html": [
       "<div>\n",
       "<style scoped>\n",
       "    .dataframe tbody tr th:only-of-type {\n",
       "        vertical-align: middle;\n",
       "    }\n",
       "\n",
       "    .dataframe tbody tr th {\n",
       "        vertical-align: top;\n",
       "    }\n",
       "\n",
       "    .dataframe thead th {\n",
       "        text-align: right;\n",
       "    }\n",
       "</style>\n",
       "<table border=\"1\" class=\"dataframe\">\n",
       "  <thead>\n",
       "    <tr style=\"text-align: right;\">\n",
       "      <th></th>\n",
       "      <th>hour</th>\n",
       "      <th>numeric</th>\n",
       "    </tr>\n",
       "  </thead>\n",
       "  <tbody>\n",
       "    <tr>\n",
       "      <th>0</th>\n",
       "      <td>2020-03-01 00:00:00</td>\n",
       "      <td>49.0</td>\n",
       "    </tr>\n",
       "    <tr>\n",
       "      <th>1</th>\n",
       "      <td>2020-03-01 03:00:00</td>\n",
       "      <td>49.0</td>\n",
       "    </tr>\n",
       "    <tr>\n",
       "      <th>2</th>\n",
       "      <td>2020-03-01 04:00:00</td>\n",
       "      <td>50.0</td>\n",
       "    </tr>\n",
       "    <tr>\n",
       "      <th>3</th>\n",
       "      <td>2020-03-01 05:00:00</td>\n",
       "      <td>48.0</td>\n",
       "    </tr>\n",
       "    <tr>\n",
       "      <th>4</th>\n",
       "      <td>2020-03-01 06:00:00</td>\n",
       "      <td>51.0</td>\n",
       "    </tr>\n",
       "    <tr>\n",
       "      <th>...</th>\n",
       "      <td>...</td>\n",
       "      <td>...</td>\n",
       "    </tr>\n",
       "    <tr>\n",
       "      <th>32930</th>\n",
       "      <td>2024-04-05 20:00:00</td>\n",
       "      <td>48.0</td>\n",
       "    </tr>\n",
       "    <tr>\n",
       "      <th>32931</th>\n",
       "      <td>2024-04-05 21:00:00</td>\n",
       "      <td>50.0</td>\n",
       "    </tr>\n",
       "    <tr>\n",
       "      <th>32932</th>\n",
       "      <td>2024-04-05 22:00:00</td>\n",
       "      <td>52.0</td>\n",
       "    </tr>\n",
       "    <tr>\n",
       "      <th>32933</th>\n",
       "      <td>2024-04-05 23:00:00</td>\n",
       "      <td>46.0</td>\n",
       "    </tr>\n",
       "    <tr>\n",
       "      <th>32934</th>\n",
       "      <td>2024-04-06 00:00:00</td>\n",
       "      <td>66.0</td>\n",
       "    </tr>\n",
       "  </tbody>\n",
       "</table>\n",
       "<p>32935 rows × 2 columns</p>\n",
       "</div>"
      ],
      "text/plain": [
       "                     hour  numeric\n",
       "0     2020-03-01 00:00:00     49.0\n",
       "1     2020-03-01 03:00:00     49.0\n",
       "2     2020-03-01 04:00:00     50.0\n",
       "3     2020-03-01 05:00:00     48.0\n",
       "4     2020-03-01 06:00:00     51.0\n",
       "...                   ...      ...\n",
       "32930 2024-04-05 20:00:00     48.0\n",
       "32931 2024-04-05 21:00:00     50.0\n",
       "32932 2024-04-05 22:00:00     52.0\n",
       "32933 2024-04-05 23:00:00     46.0\n",
       "32934 2024-04-06 00:00:00     66.0\n",
       "\n",
       "[32935 rows x 2 columns]"
      ]
     },
     "execution_count": 30,
     "metadata": {},
     "output_type": "execute_result"
    }
   ],
   "source": [
    "numeric_median = df.groupby('hour')['numeric'].median().reset_index()\n",
    "numeric_median"
   ]
  },
  {
   "cell_type": "code",
   "execution_count": 17,
   "id": "aa2842cd",
   "metadata": {},
   "outputs": [
    {
     "data": {
      "text/html": [
       "<div>\n",
       "<style scoped>\n",
       "    .dataframe tbody tr th:only-of-type {\n",
       "        vertical-align: middle;\n",
       "    }\n",
       "\n",
       "    .dataframe tbody tr th {\n",
       "        vertical-align: top;\n",
       "    }\n",
       "\n",
       "    .dataframe thead th {\n",
       "        text-align: right;\n",
       "    }\n",
       "</style>\n",
       "<table border=\"1\" class=\"dataframe\">\n",
       "  <thead>\n",
       "    <tr style=\"text-align: right;\">\n",
       "      <th></th>\n",
       "      <th>numeric</th>\n",
       "      <th>datetime</th>\n",
       "      <th>string</th>\n",
       "      <th>hour</th>\n",
       "    </tr>\n",
       "  </thead>\n",
       "  <tbody>\n",
       "    <tr>\n",
       "      <th>0</th>\n",
       "      <td>37</td>\n",
       "      <td>2021-12-15 23:50:26.298220872</td>\n",
       "      <td>two21</td>\n",
       "      <td>2021-12-15 23:00:00</td>\n",
       "    </tr>\n",
       "    <tr>\n",
       "      <th>1</th>\n",
       "      <td>36</td>\n",
       "      <td>2023-12-09 05:49:41.059899360</td>\n",
       "      <td>quality53</td>\n",
       "      <td>2023-12-09 05:00:00</td>\n",
       "    </tr>\n",
       "    <tr>\n",
       "      <th>2</th>\n",
       "      <td>65</td>\n",
       "      <td>2023-09-16 00:22:17.112044560</td>\n",
       "      <td>source32</td>\n",
       "      <td>2023-09-16 00:00:00</td>\n",
       "    </tr>\n",
       "    <tr>\n",
       "      <th>3</th>\n",
       "      <td>64</td>\n",
       "      <td>2023-07-27 03:02:35.989805200</td>\n",
       "      <td>politics83</td>\n",
       "      <td>2023-07-27 03:00:00</td>\n",
       "    </tr>\n",
       "    <tr>\n",
       "      <th>4</th>\n",
       "      <td>53</td>\n",
       "      <td>2023-02-18 00:35:33.391751104</td>\n",
       "      <td>recent29</td>\n",
       "      <td>2023-02-18 00:00:00</td>\n",
       "    </tr>\n",
       "    <tr>\n",
       "      <th>...</th>\n",
       "      <td>...</td>\n",
       "      <td>...</td>\n",
       "      <td>...</td>\n",
       "      <td>...</td>\n",
       "    </tr>\n",
       "    <tr>\n",
       "      <th>1649930</th>\n",
       "      <td>50</td>\n",
       "      <td>2020-03-21 12:46:00.867452028</td>\n",
       "      <td>state52</td>\n",
       "      <td>2020-03-21 12:00:00</td>\n",
       "    </tr>\n",
       "    <tr>\n",
       "      <th>1649931</th>\n",
       "      <td>54</td>\n",
       "      <td>2022-04-14 15:09:17.990298600</td>\n",
       "      <td>class69</td>\n",
       "      <td>2022-04-14 15:00:00</td>\n",
       "    </tr>\n",
       "    <tr>\n",
       "      <th>1649932</th>\n",
       "      <td>58</td>\n",
       "      <td>2020-09-12 09:56:00.572392018</td>\n",
       "      <td></td>\n",
       "      <td>2020-09-12 09:00:00</td>\n",
       "    </tr>\n",
       "    <tr>\n",
       "      <th>1649934</th>\n",
       "      <td>72</td>\n",
       "      <td>2023-11-19 17:15:05.355990176</td>\n",
       "      <td>finish70</td>\n",
       "      <td>2023-11-19 17:00:00</td>\n",
       "    </tr>\n",
       "    <tr>\n",
       "      <th>1649935</th>\n",
       "      <td>54</td>\n",
       "      <td>2022-10-12 20:30:10.851420352</td>\n",
       "      <td>ready65</td>\n",
       "      <td>2022-10-12 20:00:00</td>\n",
       "    </tr>\n",
       "  </tbody>\n",
       "</table>\n",
       "<p>27500000 rows × 4 columns</p>\n",
       "</div>"
      ],
      "text/plain": [
       "         numeric                      datetime      string                hour\n",
       "0             37 2021-12-15 23:50:26.298220872       two21 2021-12-15 23:00:00\n",
       "1             36 2023-12-09 05:49:41.059899360   quality53 2023-12-09 05:00:00\n",
       "2             65 2023-09-16 00:22:17.112044560    source32 2023-09-16 00:00:00\n",
       "3             64 2023-07-27 03:02:35.989805200  politics83 2023-07-27 03:00:00\n",
       "4             53 2023-02-18 00:35:33.391751104    recent29 2023-02-18 00:00:00\n",
       "...          ...                           ...         ...                 ...\n",
       "1649930       50 2020-03-21 12:46:00.867452028     state52 2020-03-21 12:00:00\n",
       "1649931       54 2022-04-14 15:09:17.990298600     class69 2022-04-14 15:00:00\n",
       "1649932       58 2020-09-12 09:56:00.572392018             2020-09-12 09:00:00\n",
       "1649934       72 2023-11-19 17:15:05.355990176    finish70 2023-11-19 17:00:00\n",
       "1649935       54 2022-10-12 20:30:10.851420352     ready65 2022-10-12 20:00:00\n",
       "\n",
       "[27500000 rows x 4 columns]"
      ]
     },
     "execution_count": 17,
     "metadata": {},
     "output_type": "execute_result"
    }
   ],
   "source": [
    "df"
   ]
  },
  {
   "cell_type": "markdown",
   "id": "dae6a411",
   "metadata": {},
   "source": [
    "# Гистограмма "
   ]
  },
  {
   "cell_type": "code",
   "execution_count": 18,
   "id": "5b45abbb",
   "metadata": {},
   "outputs": [],
   "source": [
    "import matplotlib.pyplot as plt"
   ]
  },
  {
   "cell_type": "code",
   "execution_count": 19,
   "id": "c6d9b28d",
   "metadata": {},
   "outputs": [
    {
     "data": {
      "text/plain": [
       "27500000"
      ]
     },
     "execution_count": 19,
     "metadata": {},
     "output_type": "execute_result"
    }
   ],
   "source": [
    "len_numeric = len(df.numeric)\n",
    "len_numeric"
   ]
  },
  {
   "cell_type": "code",
   "execution_count": 20,
   "id": "fa939c5c",
   "metadata": {},
   "outputs": [
    {
     "data": {
      "text/plain": [
       "50.42642029090909"
      ]
     },
     "execution_count": 20,
     "metadata": {},
     "output_type": "execute_result"
    }
   ],
   "source": [
    "mean = df.numeric.mean()\n",
    "mean"
   ]
  },
  {
   "cell_type": "code",
   "execution_count": 23,
   "id": "97ac7eb3",
   "metadata": {},
   "outputs": [
    {
     "data": {
      "text/plain": [
       "(array([1.000000e+00, 0.000000e+00, 0.000000e+00, 2.000000e+00,\n",
       "        4.000000e+00, 1.000000e+00, 9.000000e+00, 1.200000e+01,\n",
       "        2.300000e+01, 5.500000e+01, 7.700000e+01, 1.200000e+02,\n",
       "        1.820000e+02, 2.750000e+02, 4.400000e+02, 6.600000e+02,\n",
       "        1.037000e+03, 1.469000e+03, 2.208000e+03, 3.346000e+03,\n",
       "        4.861000e+03, 6.910000e+03, 9.562000e+03, 1.352200e+04,\n",
       "        1.847800e+04, 2.541200e+04, 3.430300e+04, 4.525700e+04,\n",
       "        5.957000e+04, 7.764900e+04, 9.931600e+04, 1.258570e+05,\n",
       "        1.588010e+05, 1.963310e+05, 2.387240e+05, 2.898220e+05,\n",
       "        3.456480e+05, 4.097790e+05, 4.773260e+05, 5.505960e+05,\n",
       "        6.252470e+05, 7.048440e+05, 7.845810e+05, 8.619610e+05,\n",
       "        9.357160e+05, 1.006059e+06, 1.067254e+06, 1.116852e+06,\n",
       "        1.157595e+06, 1.183007e+06, 1.197459e+06, 1.196145e+06,\n",
       "        1.180225e+06, 1.150642e+06, 1.112602e+06, 1.057627e+06,\n",
       "        9.955870e+05, 9.253340e+05, 8.505330e+05, 7.735470e+05,\n",
       "        6.936980e+05, 6.155630e+05, 5.397300e+05, 4.666410e+05,\n",
       "        3.989510e+05, 3.369180e+05, 2.811260e+05, 2.328930e+05,\n",
       "        1.898340e+05, 1.532430e+05, 1.217850e+05, 9.630700e+04,\n",
       "        7.471800e+04, 5.769300e+04, 4.363500e+04, 3.275400e+04,\n",
       "        2.417400e+04, 1.779500e+04, 1.270700e+04, 9.145000e+03,\n",
       "        6.357000e+03, 4.469000e+03, 3.183000e+03, 2.065000e+03,\n",
       "        1.452000e+03, 9.780000e+02, 5.910000e+02, 4.100000e+02,\n",
       "        2.770000e+02, 1.800000e+02, 9.700000e+01, 7.500000e+01,\n",
       "        3.900000e+01, 1.600000e+01, 1.600000e+01, 8.000000e+00,\n",
       "        9.000000e+00, 5.000000e+00, 0.000000e+00, 1.000000e+00]),\n",
       " array([ 0.  ,  0.99,  1.98,  2.97,  3.96,  4.95,  5.94,  6.93,  7.92,\n",
       "         8.91,  9.9 , 10.89, 11.88, 12.87, 13.86, 14.85, 15.84, 16.83,\n",
       "        17.82, 18.81, 19.8 , 20.79, 21.78, 22.77, 23.76, 24.75, 25.74,\n",
       "        26.73, 27.72, 28.71, 29.7 , 30.69, 31.68, 32.67, 33.66, 34.65,\n",
       "        35.64, 36.63, 37.62, 38.61, 39.6 , 40.59, 41.58, 42.57, 43.56,\n",
       "        44.55, 45.54, 46.53, 47.52, 48.51, 49.5 , 50.49, 51.48, 52.47,\n",
       "        53.46, 54.45, 55.44, 56.43, 57.42, 58.41, 59.4 , 60.39, 61.38,\n",
       "        62.37, 63.36, 64.35, 65.34, 66.33, 67.32, 68.31, 69.3 , 70.29,\n",
       "        71.28, 72.27, 73.26, 74.25, 75.24, 76.23, 77.22, 78.21, 79.2 ,\n",
       "        80.19, 81.18, 82.17, 83.16, 84.15, 85.14, 86.13, 87.12, 88.11,\n",
       "        89.1 , 90.09, 91.08, 92.07, 93.06, 94.05, 95.04, 96.03, 97.02,\n",
       "        98.01, 99.  ]),\n",
       " <BarContainer object of 100 artists>)"
      ]
     },
     "execution_count": 23,
     "metadata": {},
     "output_type": "execute_result"
    },
    {
     "data": {
      "image/png": "[encoded data removed]",
      "text/plain": [
       "<Figure size 640x480 with 1 Axes>"
      ]
     },
     "metadata": {},
     "output_type": "display_data"
    }
   ],
   "source": [
    "plt.hist(df.numeric, bins=100, edgecolor='black')"
   ]
  },
  {
   "cell_type": "markdown",
   "id": "6b2d3095",
   "metadata": {},
   "source": [
    "# Расчет доверительного интервала"
   ]
  },
  {
   "cell_type": "code",
   "execution_count": 27,
   "id": "d1ff2604",
   "metadata": {},
   "outputs": [],
   "source": [
    "import scipy.stats as stats\n",
    "sample_mean = np.mean(df.numeric)\n",
    "sample_std = np.std(df.numeric, ddof=1)"
   ]
  },
  {
   "cell_type": "code",
   "execution_count": 28,
   "id": "1287f376",
   "metadata": {},
   "outputs": [],
   "source": [
    "# Размер выборки\n",
    "n = len(df.numeric)"
   ]
  },
  {
   "cell_type": "code",
   "execution_count": 29,
   "id": "6712abaa",
   "metadata": {},
   "outputs": [],
   "source": [
    "# Стандартная ошибка среднего\n",
    "sem = sample_std / np.sqrt(n)"
   ]
  },
  {
   "cell_type": "code",
   "execution_count": 30,
   "id": "bd4adfbf",
   "metadata": {},
   "outputs": [],
   "source": [
    "# t-значение для 95% доверительного интервала и (n-1) степеней свободы\n",
    "confidence_level = 0.95\n",
    "alpha = 1 - confidence_level\n",
    "_df = n - 1\n",
    "t_critical = stats.t.ppf(1 - alpha/2, _df)"
   ]
  },
  {
   "cell_type": "code",
   "execution_count": 31,
   "id": "684e9cdb",
   "metadata": {},
   "outputs": [
    {
     "name": "stdout",
     "output_type": "stream",
     "text": [
      "95% доверительный интервал: (50.42, 50.43)\n"
     ]
    }
   ],
   "source": [
    "# Доверительный интервал\n",
    "margin_of_error = t_critical * sem\n",
    "ci_lower = sample_mean - margin_of_error\n",
    "ci_upper = sample_mean + margin_of_error\n",
    "\n",
    "print(f\"95% доверительный интервал: ({ci_lower:.2f}, {ci_upper:.2f})\")"
   ]
  },
  {
   "cell_type": "markdown",
   "id": "fa17014b",
   "metadata": {},
   "source": [
    "# Визуализация"
   ]
  },
  {
   "cell_type": "code",
   "execution_count": 32,
   "id": "44be7082",
   "metadata": {},
   "outputs": [],
   "source": [
    "df['month'] = df['datetime'].dt.to_period('M')\n",
    "monthly_mean = df.groupby('month')['numeric'].mean()"
   ]
  },
  {
   "cell_type": "code",
   "execution_count": 33,
   "id": "b9d0373b",
   "metadata": {},
   "outputs": [
    {
     "data": {
      "text/plain": [
       "month\n",
       "2020-03    50.449770\n",
       "2020-04    50.440588\n",
       "2020-05    50.426562\n",
       "2020-06    50.410958\n",
       "2020-07    50.444992\n",
       "2020-08    50.414859\n",
       "2020-09    50.416782\n",
       "2020-10    50.430969\n",
       "2020-11    50.429810\n",
       "2020-12    50.412309\n",
       "2021-01    50.413923\n",
       "2021-02    50.432741\n",
       "2021-03    50.438559\n",
       "2021-04    50.429022\n",
       "2021-05    50.435273\n",
       "2021-06    50.427957\n",
       "2021-07    50.420210\n",
       "2021-08    50.451464\n",
       "2021-09    50.417712\n",
       "2021-10    50.403293\n",
       "2021-11    50.434792\n",
       "2021-12    50.432187\n",
       "2022-01    50.428293\n",
       "2022-02    50.448353\n",
       "2022-03    50.418302\n",
       "2022-04    50.433208\n",
       "2022-05    50.418883\n",
       "2022-06    50.411481\n",
       "2022-07    50.419886\n",
       "2022-08    50.433640\n",
       "2022-09    50.406879\n",
       "2022-10    50.413594\n",
       "2022-11    50.419617\n",
       "2022-12    50.446458\n",
       "2023-01    50.408492\n",
       "2023-02    50.435564\n",
       "2023-03    50.424507\n",
       "2023-04    50.415446\n",
       "2023-05    50.439707\n",
       "2023-06    50.418412\n",
       "2023-07    50.428640\n",
       "2023-08    50.425513\n",
       "2023-09    50.431166\n",
       "2023-10    50.413757\n",
       "2023-11    50.425771\n",
       "2023-12    50.427755\n",
       "2024-01    50.428815\n",
       "2024-02    50.433045\n",
       "2024-03    50.430645\n",
       "2024-04    50.403871\n",
       "Freq: M, Name: numeric, dtype: float64"
      ]
     },
     "execution_count": 33,
     "metadata": {},
     "output_type": "execute_result"
    }
   ],
   "source": [
    "monthly_mean"
   ]
  },
  {
   "cell_type": "code",
   "execution_count": 34,
   "id": "cb92d3b3",
   "metadata": {},
   "outputs": [
    {
     "data": {
      "image/png": "[encoded data removed]",
      "text/plain": [
       "<Figure size 1000x600 with 1 Axes>"
      ]
     },
     "metadata": {},
     "output_type": "display_data"
    }
   ],
   "source": [
    "plt.figure(figsize=(10, 6))\n",
    "monthly_mean.plot()\n",
    "plt.xlabel('Month')\n",
    "plt.ylabel('Average Numeric Value')\n",
    "plt.title('Average Numeric Value by Month')\n",
    "plt.grid(True)\n",
    "plt.show()"
   ]
  },
  {
   "cell_type": "markdown",
   "id": "8140fd4c",
   "metadata": {},
   "source": [
    "# Деление датасета на 3 части"
   ]
  },
  {
   "cell_type": "code",
   "execution_count": 35,
   "id": "29537177",
   "metadata": {},
   "outputs": [
    {
     "name": "stdout",
     "output_type": "stream",
     "text": [
      "Part 1: 6875000 records\n",
      "Part 2: 13750000 records\n",
      "Part 3: 6875000 records\n"
     ]
    }
   ],
   "source": [
    "# Разделение датасета на 3 части\n",
    "split_1 = int(len(df.numeric) * 0.25)\n",
    "split_2 = int(len(df.numeric) * 0.5)\n",
    "\n",
    "df_part1 = df[:split_1]\n",
    "df_part2 = df[split_1:split_1 + split_2]\n",
    "df_part3 = df[split_1 + split_2:]\n",
    "\n",
    "# Проверка размеров частей\n",
    "print(f'Part 1: {len(df_part1)} records')\n",
    "print(f'Part 2: {len(df_part2)} records')\n",
    "print(f'Part 3: {len(df_part3)} records')"
   ]
  },
  {
   "cell_type": "code",
   "execution_count": 36,
   "id": "5ff629f0",
   "metadata": {},
   "outputs": [],
   "source": [
    "from scipy.stats import ttest_ind"
   ]
  },
  {
   "cell_type": "code",
   "execution_count": 37,
   "id": "1e61fe33",
   "metadata": {},
   "outputs": [
    {
     "data": {
      "image/png": "[encoded data removed]",
      "text/plain": [
       "<Figure size 1000x600 with 1 Axes>"
      ]
     },
     "metadata": {},
     "output_type": "display_data"
    },
    {
     "name": "stdout",
     "output_type": "stream",
     "text": [
      "T-test between Part 1 and Part 2: t-statistic = -0.1438741741091871, p-value = 0.8855998309644361\n",
      "T-test between Part 1 and Part 3: t-statistic = 0.213667553000663, p-value = 0.8308063191111321\n",
      "T-test between Part 2 and Part 3: t-statistic = 0.39049640599576524, p-value = 0.6961695164274979\n"
     ]
    }
   ],
   "source": [
    "# Группировка по месяцам и вычисление среднего значения\n",
    "df['month'] = df['datetime'].dt.to_period('M')\n",
    "monthly_mean = df.groupby('month')['numeric'].mean()\n",
    "\n",
    "# Построение графика\n",
    "plt.figure(figsize=(10, 6))\n",
    "monthly_mean.plot()\n",
    "plt.xlabel('Month')\n",
    "plt.ylabel('Average Numeric Value')\n",
    "plt.title('Average Numeric Value by Month')\n",
    "plt.grid(True)\n",
    "plt.show()\n",
    "\n",
    "# Проверка на статистическую значимость различий\n",
    "# T-test между Part 1 и Part 2\n",
    "t_stat1, p_val1 = ttest_ind(df_part1['numeric'], df_part2['numeric'])\n",
    "print(f'T-test between Part 1 and Part 2: t-statistic = {t_stat1}, p-value = {p_val1}')\n",
    "\n",
    "# T-test между Part 1 и Part 3\n",
    "t_stat2, p_val2 = ttest_ind(df_part1['numeric'], df_part3['numeric'])\n",
    "print(f'T-test between Part 1 and Part 3: t-statistic = {t_stat2}, p-value = {p_val2}')\n",
    "\n",
    "# T-test между Part 2 и Part 3\n",
    "t_stat3, p_val3 = ttest_ind(df_part2['numeric'], df_part3['numeric'])\n",
    "print(f'T-test between Part 2 and Part 3: t-statistic = {t_stat3}, p-value = {p_val3}')"
   ]
  },
  {
   "cell_type": "code",
   "execution_count": 38,
   "id": "ff4de21f",
   "metadata": {},
   "outputs": [
    {
     "name": "stdout",
     "output_type": "stream",
     "text": [
      "Cohen's d between Part 1 and Part 2: -6.720353558156864e-05\n",
      "Cohen's d between Part 1 and Part 3: 0.00011524370787677381\n",
      "Cohen's d between Part 2 and Part 3: 0.00018240062385964275\n"
     ]
    }
   ],
   "source": [
    "# Функция для вычисления Cohen's d\n",
    "def cohen_d(x, y):\n",
    "    nx = len(x)\n",
    "    ny = len(y)\n",
    "    dof = nx + ny - 2\n",
    "    pooled_std = np.sqrt(((nx - 1) * np.var(x, ddof=1) + (ny - 1) * np.var(y, ddof=1)) / dof)\n",
    "    d = (np.mean(x) - np.mean(y)) / pooled_std\n",
    "    return d\n",
    "\n",
    "# Оценка силы эффекта между Part 1 и Part 2\n",
    "d1 = cohen_d(df_part1['numeric'], df_part2['numeric'])\n",
    "print(f'Cohen\\'s d between Part 1 and Part 2: {d1}')\n",
    "\n",
    "# Оценка силы эффекта между Part 1 и Part 3\n",
    "d2 = cohen_d(df_part1['numeric'], df_part3['numeric'])\n",
    "print(f'Cohen\\'s d between Part 1 and Part 3: {d2}')\n",
    "\n",
    "# Оценка силы эффекта между Part 2 и Part 3\n",
    "d3 = cohen_d(df_part2['numeric'], df_part3['numeric'])\n",
    "print(f'Cohen\\'s d between Part 2 and Part 3: {d3}')"
   ]
  },
  {
   "cell_type": "code",
   "execution_count": 39,
   "id": "9196895f",
   "metadata": {},
   "outputs": [
    {
     "name": "stdout",
     "output_type": "stream",
     "text": [
      "Collecting pymc3\n",
      "  Downloading pymc3-3.11.6-py3-none-any.whl (872 kB)\n",
      "\u001b[2K     \u001b[90m━━━━━━━━━━━━━━━━━━━━━━━━━━━━━━━━━━━━━━━\u001b[0m \u001b[32m872.6/872.6 kB\u001b[0m \u001b[31m1.6 MB/s\u001b[0m eta \u001b[36m0:00:00\u001b[0ma \u001b[36m0:00:01\u001b[0m\n",
      "\u001b[?25hCollecting arviz\n",
      "  Downloading arviz-0.18.0-py3-none-any.whl (1.7 MB)\n",
      "\u001b[2K     \u001b[90m━━━━━━━━━━━━━━━━━━━━━━━━━━━━━━━━━━━━━━━━\u001b[0m \u001b[32m1.7/1.7 MB\u001b[0m \u001b[31m5.2 MB/s\u001b[0m eta \u001b[36m0:00:00\u001b[0ma \u001b[36m0:00:01\u001b[0m\n",
      "\u001b[?25hRequirement already satisfied: cachetools>=4.2.1 in ./anaconda3/lib/python3.11/site-packages (from pymc3) (5.3.3)\n",
      "Collecting deprecat (from pymc3)\n",
      "  Downloading deprecat-2.1.1-py2.py3-none-any.whl (9.8 kB)\n",
      "Requirement already satisfied: dill in ./anaconda3/lib/python3.11/site-packages (from pymc3) (0.3.1.1)\n",
      "Collecting fastprogress>=0.2.0 (from pymc3)\n",
      "  Downloading fastprogress-1.0.3-py3-none-any.whl (12 kB)\n",
      "Collecting numpy<1.22.2,>=1.15.0 (from pymc3)\n",
      "  Downloading numpy-1.22.1.zip (11.4 MB)\n",
      "\u001b[2K     \u001b[90m━━━━━━━━━━━━━━━━━━━━━━━━━━━━━━━━━━━━━━━━\u001b[0m \u001b[32m11.4/11.4 MB\u001b[0m \u001b[31m10.8 MB/s\u001b[0m eta \u001b[36m0:00:00\u001b[0m00:01\u001b[0m00:01\u001b[0m\n",
      "\u001b[?25h  Installing build dependencies ... \u001b[?25ldone\n",
      "\u001b[?25h  Getting requirements to build wheel ... \u001b[?25ldone\n",
      "\u001b[?25h  Preparing metadata (pyproject.toml) ... \u001b[?25ldone\n",
      "\u001b[?25hRequirement already satisfied: pandas>=0.24.0 in ./anaconda3/lib/python3.11/site-packages (from pymc3) (2.1.4)\n",
      "Requirement already satisfied: patsy>=0.5.1 in ./anaconda3/lib/python3.11/site-packages (from pymc3) (0.5.3)\n",
      "INFO: pip is looking at multiple versions of pymc3 to determine which version is compatible with other requirements. This could take a while.\n",
      "Collecting pymc3\n",
      "  Downloading pymc3-3.11.5-py3-none-any.whl (872 kB)\n",
      "\u001b[2K     \u001b[90m━━━━━━━━━━━━━━━━━━━━━━━━━━━━━━━━━━━━━━\u001b[0m \u001b[32m872.2/872.2 kB\u001b[0m \u001b[31m10.0 MB/s\u001b[0m eta \u001b[36m0:00:00\u001b[0ma \u001b[36m0:00:01\u001b[0m\n",
      "\u001b[?25h  Downloading pymc3-3.11.4-py3-none-any.whl (869 kB)\n",
      "\u001b[2K     \u001b[90m━━━━━━━━━━━━━━━━━━━━━━━━━━━━━━━━━━━━━━━\u001b[0m \u001b[32m869.5/869.5 kB\u001b[0m \u001b[31m9.1 MB/s\u001b[0m eta \u001b[36m0:00:00\u001b[0ma \u001b[36m0:00:01\u001b[0m\n",
      "\u001b[?25hRequirement already satisfied: numpy>=1.15.0 in ./anaconda3/lib/python3.11/site-packages (from pymc3) (1.24.4)\n",
      "Requirement already satisfied: scipy>=1.2.0 in ./anaconda3/lib/python3.11/site-packages (from pymc3) (1.10.1)\n",
      "Collecting semver>=2.13.0 (from pymc3)\n",
      "  Downloading semver-3.0.2-py3-none-any.whl (17 kB)\n",
      "Collecting theano-pymc==1.1.2 (from pymc3)\n",
      "  Downloading Theano-PyMC-1.1.2.tar.gz (1.8 MB)\n",
      "\u001b[2K     \u001b[90m━━━━━━━━━━━━━━━━━━━━━━━━━━━━━━━━━━━━━━━━\u001b[0m \u001b[32m1.8/1.8 MB\u001b[0m \u001b[31m9.9 MB/s\u001b[0m eta \u001b[36m0:00:00\u001b[0mta \u001b[36m0:00:01\u001b[0m\n",
      "\u001b[?25h  Preparing metadata (setup.py) ... \u001b[?25ldone\n",
      "\u001b[?25hRequirement already satisfied: typing-extensions>=3.7.4 in ./anaconda3/lib/python3.11/site-packages (from pymc3) (4.10.0)\n",
      "Requirement already satisfied: filelock in ./anaconda3/lib/python3.11/site-packages (from theano-pymc==1.1.2->pymc3) (3.13.1)\n",
      "Requirement already satisfied: setuptools>=60.0.0 in ./anaconda3/lib/python3.11/site-packages (from arviz) (66.1.1)\n",
      "Requirement already satisfied: matplotlib>=3.5 in ./anaconda3/lib/python3.11/site-packages (from arviz) (3.7.1)\n",
      "Requirement already satisfied: packaging in ./anaconda3/lib/python3.11/site-packages (from arviz) (23.2)\n",
      "Collecting dm-tree>=0.1.8 (from arviz)\n",
      "  Downloading dm_tree-0.1.8-cp311-cp311-macosx_11_0_arm64.whl (110 kB)\n",
      "\u001b[2K     \u001b[90m━━━━━━━━━━━━━━━━━━━━━━━━━━━━━━━━━━━━━━━\u001b[0m \u001b[32m110.7/110.7 kB\u001b[0m \u001b[31m2.5 MB/s\u001b[0m eta \u001b[36m0:00:00\u001b[0ma \u001b[36m0:00:01\u001b[0m\n",
      "\u001b[?25hRequirement already satisfied: xarray>=2022.6.0 in ./anaconda3/lib/python3.11/site-packages (from arviz) (2022.11.0)\n",
      "Collecting h5netcdf>=1.0.2 (from arviz)\n",
      "  Downloading h5netcdf-1.3.0-py3-none-any.whl (43 kB)\n",
      "\u001b[2K     \u001b[90m━━━━━━━━━━━━━━━━━━━━━━━━━━━━━━━━━━━━━━━━\u001b[0m \u001b[32m43.6/43.6 kB\u001b[0m \u001b[31m4.0 MB/s\u001b[0m eta \u001b[36m0:00:00\u001b[0m\n",
      "\u001b[?25hCollecting xarray-einstats>=0.3 (from arviz)\n",
      "  Downloading xarray_einstats-0.7.0-py3-none-any.whl (31 kB)\n",
      "Requirement already satisfied: h5py in ./anaconda3/lib/python3.11/site-packages (from h5netcdf>=1.0.2->arviz) (3.7.0)\n",
      "Requirement already satisfied: contourpy>=1.0.1 in ./anaconda3/lib/python3.11/site-packages (from matplotlib>=3.5->arviz) (1.0.5)\n",
      "Requirement already satisfied: cycler>=0.10 in ./anaconda3/lib/python3.11/site-packages (from matplotlib>=3.5->arviz) (0.11.0)\n",
      "Requirement already satisfied: fonttools>=4.22.0 in ./anaconda3/lib/python3.11/site-packages (from matplotlib>=3.5->arviz) (4.25.0)\n",
      "Requirement already satisfied: kiwisolver>=1.0.1 in ./anaconda3/lib/python3.11/site-packages (from matplotlib>=3.5->arviz) (1.4.4)\n",
      "Requirement already satisfied: pillow>=6.2.0 in ./anaconda3/lib/python3.11/site-packages (from matplotlib>=3.5->arviz) (9.4.0)\n",
      "Requirement already satisfied: pyparsing>=2.3.1 in ./anaconda3/lib/python3.11/site-packages (from matplotlib>=3.5->arviz) (3.1.2)\n",
      "Requirement already satisfied: python-dateutil>=2.7 in ./anaconda3/lib/python3.11/site-packages (from matplotlib>=3.5->arviz) (2.9.0.post0)\n",
      "Requirement already satisfied: pytz>=2020.1 in ./anaconda3/lib/python3.11/site-packages (from pandas>=0.24.0->pymc3) (2024.1)\n",
      "Requirement already satisfied: tzdata>=2022.1 in ./anaconda3/lib/python3.11/site-packages (from pandas>=0.24.0->pymc3) (2024.1)\n",
      "Requirement already satisfied: six in ./anaconda3/lib/python3.11/site-packages (from patsy>=0.5.1->pymc3) (1.16.0)\n",
      "Building wheels for collected packages: theano-pymc\n",
      "  Building wheel for theano-pymc (setup.py) ... \u001b[?25ldone\n",
      "\u001b[?25h  Created wheel for theano-pymc: filename=Theano_PyMC-1.1.2-py3-none-any.whl size=1529962 sha256=9a608f72d5724434061eaa3d964079b4a1c918c0c1703455927e2a7450cdd4f5\n",
      "  Stored in directory: /Users/jandos/Library/Caches/pip/wheels/fb/d3/25/6c443075ee21f3b6a59a6a180b55657b012722e1b89f8ccbe8\n",
      "Successfully built theano-pymc\n",
      "Installing collected packages: dm-tree, semver, fastprogress, theano-pymc, h5netcdf, xarray-einstats, arviz, pymc3\n",
      "Successfully installed arviz-0.18.0 dm-tree-0.1.8 fastprogress-1.0.3 h5netcdf-1.3.0 pymc3-3.11.4 semver-3.0.2 theano-pymc-1.1.2 xarray-einstats-0.7.0\n",
      "Note: you may need to restart the kernel to use updated packages.\n"
     ]
    }
   ],
   "source": [
    "pip install pymc3 arviz\n"
   ]
  },
  {
   "cell_type": "markdown",
   "id": "479624a7",
   "metadata": {},
   "source": [
    "# Второе доп задание\n"
   ]
  },
  {
   "cell_type": "markdown",
   "id": "303e949c",
   "metadata": {},
   "source": [
    "Вводные\n",
    "Известно что компания конкурент выпустила 1000 прототипов игр, из которых было 5 успешных.\n",
    "Наша компания выпустила 200 прототипов из которых ни один не был успешен.\n",
    "Какова вероятность что следующий (201й) наш прототип будет успешен? Какими методами можно решать данную задачу? Предложите как минимум 2 варианта. Если у вас есть какой-то вариант решения задачи для которого требуются доп. данные - перечислите что требуется и метод решения.\n"
   ]
  },
  {
   "cell_type": "markdown",
   "id": "cfb4260b",
   "metadata": {},
   "source": [
    "Конкурент выпустил 1000 прототипов, из которых 5 успешных\n",
    "P(успешные у конкурента) = 5/1000 = 0.005"
   ]
  },
  {
   "cell_type": "markdown",
   "id": "1cecf089",
   "metadata": {},
   "source": [
    "Наша компания выпустила 200 прототипов, из которых 0 успешных.\n",
    "P(успешные у нашего)=0/200 = 0."
   ]
  },
  {
   "cell_type": "code",
   "execution_count": 41,
   "id": "26fc5406",
   "metadata": {},
   "outputs": [],
   "source": [
    "##Определение вероятности успеха 201-го прототипа."
   ]
  },
  {
   "cell_type": "markdown",
   "id": "d8635736",
   "metadata": {},
   "source": [
    "Если предыдущие 200 прототипов были неуспешными, то вероятность 201 экземпляра:\n",
    "    P(201 успех) = 0. (Ограничения:\n",
    "Этот метод не учитывает возможность изменения стратегии или улучшений, которые могли бы увеличить вероятность успеха в будущем.)"
   ]
  },
  {
   "cell_type": "code",
   "execution_count": 42,
   "id": "f6c241fb",
   "metadata": {},
   "outputs": [],
   "source": [
    "##Байесовский подход"
   ]
  },
  {
   "cell_type": "markdown",
   "id": "2ab1e39f",
   "metadata": {},
   "source": [
    "Для априорного распределения вероятности успеха можно использовать бета-распределение \n",
    "Beta\n",
    "(\n",
    "α\n",
    ",\n",
    "β\n",
    ")\n",
    "Beta(α,β). Поскольку у нас нет успешных прототипов, начнем с \n",
    "α\n",
    "=\n",
    "1\n",
    "α=1 и \n",
    "β\n",
    "=\n",
    "201\n",
    "β=201 (одно успешное и 200 неуспешных)."
   ]
  },
  {
   "cell_type": "markdown",
   "id": "fc8c3222",
   "metadata": {},
   "source": [
    "(Поскольку мы не наблюдали успехов, апостериорное распределение будет \n",
    "Beta\n",
    "(\n",
    "1\n",
    ",\n",
    "201\n",
    ")\n",
    "Beta(1,201).)"
   ]
  },
  {
   "cell_type": "markdown",
   "id": "a33e9941",
   "metadata": {},
   "source": [
    "Анализ данных конкурента:\n",
    "Если у нас есть данные о том, что делало игры конкурента успешными, мы можем использовать машинное обучение для предсказания успеха наших игр.\n",
    "\n",
    "Требуемые данные:\n",
    "\n",
    "Характеристики каждого прототипа (жанр, платформа, бюджет и т.д.).\n",
    "Данные о рынке и аудитории. \n",
    "\n",
    "То есть мы можем обучить модель по регрессионому анализу или случайному лесу (используя библиотеки sckit-learn) и определить, что же делает успешным игры этого конкурента"
   ]
  },
  {
   "cell_type": "code",
   "execution_count": null,
   "id": "c8dba7a2",
   "metadata": {},
   "outputs": [],
   "source": []
  }
 ],
 "metadata": {
  "kernelspec": {
   "display_name": "Python 3 (ipykernel)",
   "language": "python",
   "name": "python3"
  },
  "language_info": {
   "codemirror_mode": {
    "name": "ipython",
    "version": 3
   },
   "file_extension": ".py",
   "mimetype": "text/x-python",
   "name": "python",
   "nbconvert_exporter": "python",
   "pygments_lexer": "ipython3",
   "version": "3.11.3"
  }
 },
 "nbformat": 4,
 "nbformat_minor": 5
}
